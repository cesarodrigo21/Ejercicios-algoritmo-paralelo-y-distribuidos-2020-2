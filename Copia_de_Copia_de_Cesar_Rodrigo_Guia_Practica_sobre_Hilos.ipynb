{
  "nbformat": 4,
  "nbformat_minor": 0,
  "metadata": {
    "colab": {
      "name": "Copia de Copia de Cesar Rodrigo Guia Practica sobre Hilos",
      "provenance": [],
      "include_colab_link": true
    },
    "kernelspec": {
      "name": "python3",
      "display_name": "Python 3"
    }
  },
  "cells": [
    {
      "cell_type": "markdown",
      "metadata": {
        "id": "view-in-github",
        "colab_type": "text"
      },
      "source": [
        "<a href=\"https://colab.research.google.com/github/cesarodrigo21/Ejercicios-algoritmo-paralelo-y-distribuidos-2020-2/blob/main/Copia_de_Copia_de_Cesar_Rodrigo_Guia_Practica_sobre_Hilos.ipynb\" target=\"_parent\"><img src=\"https://colab.research.google.com/assets/colab-badge.svg\" alt=\"Open In Colab\"/></a>"
      ]
    },
    {
      "cell_type": "markdown",
      "metadata": {
        "id": "0t6Kh2cjLOYt"
      },
      "source": [
        "**PARALELISMO CON HILOS**"
      ]
    },
    {
      "cell_type": "markdown",
      "metadata": {
        "id": "KzMhMFL_HeKN"
      },
      "source": [
        "El siguiente código **identifica los hilos** utilizados. Las líneas 1-5 comentan el código siguiendo la estructura *input, procedimiento, output*"
      ]
    },
    {
      "cell_type": "code",
      "metadata": {
        "colab": {
          "base_uri": "https://localhost:8080/"
        },
        "id": "Zh7e5suksiyB",
        "outputId": "216ca35a-9e04-4e72-e903-a9b5975441fa"
      },
      "source": [
        "#input: nro de hilos\n",
        "#procedimiento:\n",
        "# - Thread_worker() obtiene el nombre de un hilo con la función currentThread().getName() \n",
        "# - cada hilo llama a Thread_worker()\n",
        "#output: Thread_worker() imprime el nombre del hilo tomado\n",
        "\n",
        "import threading\n",
        "  \n",
        "THREADS_COUNT = 4\n",
        "\n",
        "class Threaded_worker(threading.Thread):\n",
        "    def __init__(self):\n",
        "        threading.Thread.__init__(self)\n",
        "    def run(self):\n",
        "        threadName = threading.currentThread().getName() \n",
        "        print(\"Hola, Soy el thread(hilo) %s\" % threadName)\n",
        "\n",
        "print('Inicializando %d threads...' % THREADS_COUNT)\n",
        "for i in range(THREADS_COUNT):\n",
        "    td = Threaded_worker()\n",
        "    td.start()\n"
      ],
      "execution_count": null,
      "outputs": [
        {
          "output_type": "stream",
          "text": [
            "Inicializando 4 threads...\n",
            "Hola, Soy el thread(hilo) Thread-16\n",
            "Hola, Soy el thread(hilo) Thread-17\n",
            "Hola, Soy el thread(hilo) Thread-18Hola, Soy el thread(hilo) Thread-19\n",
            "\n"
          ],
          "name": "stdout"
        }
      ]
    },
    {
      "cell_type": "markdown",
      "metadata": {
        "id": "a3M6kv6AJ79t"
      },
      "source": [
        "El siguiente código utiliza la libreria **os** para nombras a los hilos como procesos. Analizar el código y comentarlo siguiendo la estructura *input-procedimiento-output*"
      ]
    },
    {
      "cell_type": "code",
      "metadata": {
        "colab": {
          "base_uri": "https://localhost:8080/"
        },
        "id": "dGbgVg0YsreA",
        "outputId": "16ca4f0e-9e43-4da7-cff7-026cf768c5c2"
      },
      "source": [
        "#input(): numero de procesos \n",
        "# procedimiento\n",
        "#crea un modulo worker en donde  os.getpid() devolvera un valor entero que indica el identificador de proceso \n",
        "#cada proceso se llama a ltiprocessing.Process(target=worker, args=())\n",
        "#output:  mostrara los procesos que hace el modulo \n",
        "\n",
        "import multiprocessing\n",
        "import os\n",
        "\n",
        "WORKER_NUMBER = 3\n",
        "\n",
        "def worker():\n",
        "    PID = os.getpid()\n",
        "    print (\"Hola, soy el proceso son PID %d\" % PID)\n",
        "\n",
        "print ('Inicializando %d procesos...' % WORKER_NUMBER)\n",
        "\n",
        "jobs = []\n",
        "for i in range(WORKER_NUMBER):\n",
        "    p = multiprocessing.Process(target=worker, args=())\n",
        "    jobs.append(p)\n",
        "    p.start()"
      ],
      "execution_count": null,
      "outputs": [
        {
          "output_type": "stream",
          "text": [
            "Inicializando 3 procesos...\n",
            "Hola, soy el proceso son PID 127\n",
            "Hola, soy el proceso son PID 128\n",
            "Hola, soy el proceso son PID 131\n"
          ],
          "name": "stdout"
        }
      ]
    },
    {
      "cell_type": "markdown",
      "metadata": {
        "id": "Hapqzy8DKhIH"
      },
      "source": [
        "En el siguiente código ¿Porqué el hilo 3 no se imprime?"
      ]
    },
    {
      "cell_type": "code",
      "metadata": {
        "colab": {
          "base_uri": "https://localhost:8080/"
        },
        "id": "JcG3A2DJD6lr",
        "outputId": "0937c8e1-9bf3-4c24-bad1-059182030d5e"
      },
      "source": [
        "#el hilo 3 no se imprime porque cuando el contador de thread1 entrara al modulo solo hara dar 2 saltos \n",
        "#en la cual tendra una restriccion que es <3 \n",
        "#lo mismo sera con el thread2 pero solo su valor 2 imprimira solo una vez\n",
        "import threading\n",
        "def cuenta(n,name):\n",
        "    count=n\n",
        "    while count<3:\n",
        "      print(\"%s in count %s\" % (name, count))\n",
        "      count+=1\n",
        "\n",
        "t = threading.Thread(target=cuenta, args=(1, 'thread1'))\n",
        "t2 = threading.Thread(target=cuenta, args=(2, 'thread2'))\n",
        "t3 = threading.Thread(target=cuenta, args=(3, 'thread3'))\n",
        "\n",
        "t.start()\n",
        "t2.start()\n",
        "t3.start()\n"
      ],
      "execution_count": null,
      "outputs": [
        {
          "output_type": "stream",
          "text": [
            "thread1 in count 0\n",
            "thread1 in count 1\n",
            "thread1 in count 2\n",
            "thread2 in count 0\n",
            "thread2 in count 1\n",
            "thread2 in count 2\n",
            "thread3 in count 0\n",
            "thread3 in count 1\n",
            "thread3 in count 2\n"
          ],
          "name": "stdout"
        }
      ]
    },
    {
      "cell_type": "markdown",
      "metadata": {
        "id": "N96cWNTgV8tb"
      },
      "source": [
        "A continuación vamos a usar la **función time** para verificar el tiempo de paralelización. El codigo a continuación imprime el inició y fin luego de x segundos"
      ]
    },
    {
      "cell_type": "code",
      "metadata": {
        "colab": {
          "base_uri": "https://localhost:8080/"
        },
        "id": "R-NkyeQpmDCG",
        "outputId": "1d34f924-a98b-4e55-e865-bc9552054192"
      },
      "source": [
        "import time\n",
        "\n",
        "print (\"Start : %s\" % time.ctime())\n",
        "time.sleep(4)\n",
        "print (\"End : %s\" % time.ctime())\n"
      ],
      "execution_count": null,
      "outputs": [
        {
          "output_type": "stream",
          "text": [
            "Start : Wed Dec  2 12:08:36 2020\n",
            "End : Wed Dec  2 12:08:40 2020\n"
          ],
          "name": "stdout"
        }
      ]
    },
    {
      "cell_type": "markdown",
      "metadata": {
        "id": "sOB4G5hHW8UQ"
      },
      "source": [
        "El siguiente ejemplo da un espacio entre los hilos, lo cual se verifica con la función time. ¿Existe paralelismo aqui? explicar"
      ]
    },
    {
      "cell_type": "code",
      "metadata": {
        "colab": {
          "base_uri": "https://localhost:8080/"
        },
        "id": "52oIOIKwJKOC",
        "outputId": "320f7d03-d904-4440-9f9b-4dcdd6853720"
      },
      "source": [
        "#no hay paralelismo por que  esta aumentando en dos segundos del  Thread-1 al Thread-2\n",
        "#en este caso tendremos concurrencia\n",
        "import threading\n",
        "import time\n",
        "\n",
        "def print_time(name):\n",
        "    count = 0   \n",
        "    print(\"inicio %s: %s. count %s\" % ( name, time.ctime(), count))\n",
        "    while count < 5:\n",
        "        count+=1\n",
        "        print(\"%s: %s. count %s\" % ( name, time.ctime(time.time()), count))\n",
        "\n",
        "        \n",
        "t1 = threading.Thread(target=print_time, args=(\"Thread-1\", ) )\n",
        "t2 = threading.Thread(target=print_time, args=(\"Thread-2\", ) )\n",
        "\n",
        "t1.start()\n",
        "time.sleep(2)\n",
        "t2.start()"
      ],
      "execution_count": null,
      "outputs": [
        {
          "output_type": "stream",
          "text": [
            "inicio Thread-1: Wed Dec  2 12:03:38 2020. count 0\n",
            "Thread-1: Wed Dec  2 12:03:38 2020. count 1\n",
            "Thread-1: Wed Dec  2 12:03:38 2020. count 2\n",
            "Thread-1: Wed Dec  2 12:03:38 2020. count 3\n",
            "Thread-1: Wed Dec  2 12:03:38 2020. count 4\n",
            "Thread-1: Wed Dec  2 12:03:38 2020. count 5\n",
            "inicio Thread-2: Wed Dec  2 12:03:40 2020. count 0\n",
            "Thread-2: Wed Dec  2 12:03:40 2020. count 1\n",
            "Thread-2: Wed Dec  2 12:03:40 2020. count 2\n",
            "Thread-2: Wed Dec  2 12:03:40 2020. count 3\n",
            "Thread-2: Wed Dec  2 12:03:40 2020. count 4\n",
            "Thread-2: Wed Dec  2 12:03:40 2020. count 5\n"
          ],
          "name": "stdout"
        }
      ]
    },
    {
      "cell_type": "markdown",
      "metadata": {
        "id": "XuS0iTU2V6kV"
      },
      "source": [
        "**Problema propuesto:** \n",
        "Ejecute varias veces el código a continuación y explique al menos 2 resultados diferentes"
      ]
    },
    {
      "cell_type": "code",
      "metadata": {
        "colab": {
          "base_uri": "https://localhost:8080/"
        },
        "id": "O-JAYILAMvYF",
        "outputId": "659dd709-d7f1-420a-f679-d4548c5b01fd"
      },
      "source": [
        "#input: datos t1 y t2 \n",
        "#procedimiento:\n",
        "# - modulo print_time en donde ( name, time.ctime(), count)) nos dara Thread1, con un tiempo actual, con un valor 0\n",
        "# - mientras el contador sea menor a 5 entones time.sleep(n) donde n es el número de segundos que se suspenderá la ejecución.\n",
        "# - haciendo que el contador en 0 aumente 1 en 1\n",
        "#output: donde imprimira el ( name, time.ctime(), count) imprimira el Thread, el nuevo tiempo actual con suspension y nuevo contador\n",
        "\n",
        "import threading\n",
        "import time\n",
        "\n",
        "def print_time(name, n):\n",
        "    count = 0   \n",
        "    print(\"Para el Hilo: %s, en el momento: %s, su valor de count es: %s\" % ( name, time.ctime(), count))\n",
        "    while count < 5:\n",
        "        time.sleep(n)\n",
        "        count+=1\n",
        "        print(\"%s: %s. count %s\" % ( name, time.ctime(), count))\n",
        "\n",
        "        \n",
        "t1 = threading.Thread(target=print_time, args=(\"Thread-1\", 2, ) )\n",
        "t2 = threading.Thread(target=print_time, args=(\"Thread-2\", 4, ) )\n",
        "\n",
        "t1.start()\n",
        "t2.start()\n",
        "\n",
        "# - Obeservacion del resultado\n",
        "\n",
        "# al ejecutar el programa lo primero que nos mostrara sera los dos theread en tiempo actual\n",
        "# al seguir ejecutando seguira dandonos el mismo tiempo actual pero con una diferencia\n",
        "# de que  Thread-1 con una pausa de 2seg y Thread-2 en 4seg  no seran iguales entonces comenzara a entrar en el while con el theread-1\n",
        "#analizara cuanto se demoro paso alcanzar al thread-2 lo mismo sera con el thread-2 que contara cuanto se paso al theread-1.\n",
        "#saldra un nuevo resultado pero con  el nombre del thread que corresponda  y nos dara conecer en cuanto este debe alcanzar al otro thread."
      ],
      "execution_count": null,
      "outputs": [
        {
          "output_type": "stream",
          "text": [
            "Para el Hilo: Thread-1, en el momento: Wed Dec  2 21:05:53 2020, su valor de count es: 0\n",
            "Para el Hilo: Thread-2, en el momento: Wed Dec  2 21:05:53 2020, su valor de count es: 0\n",
            "Thread-1: Wed Dec  2 21:05:53 2020. count 1\n"
          ],
          "name": "stdout"
        }
      ]
    },
    {
      "cell_type": "markdown",
      "metadata": {
        "id": "IkkFUyCbV2AB"
      },
      "source": [
        "\n",
        "## Ejemplo encontrado que se asemeja al problema propuesto\n",
        "fuente: https://stackoverrun.com/es/q/619462\n",
        "\n",
        "![image.png](data:image/png;base64,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)"
      ]
    },
    {
      "cell_type": "markdown",
      "metadata": {
        "id": "7WK60CtWZzXA"
      },
      "source": [
        "Fuentes: \n",
        "http://codigo-python.blogspot.com/2016/11/hilos-y-procesos-i.html\n",
        "\n",
        "https://www.tutorialspoint.com/python3/time_sleep.htm\n",
        "\n",
        "https://docs.python.org/es/3/library/threading.html#thread-objects\n",
        "\n",
        "https://en.wikipedia.org/wiki/Flynn%27s_taxonomy\n",
        "\n",
        "https://github.com/antonioam82/ejercicios-python"
      ]
    }
  ]
}