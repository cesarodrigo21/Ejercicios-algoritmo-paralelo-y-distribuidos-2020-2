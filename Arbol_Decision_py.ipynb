{
  "nbformat": 4,
  "nbformat_minor": 0,
  "metadata": {
    "colab": {
      "name": "Arbol_Decision_py.ipynb",
      "provenance": [],
      "collapsed_sections": [],
      "include_colab_link": true
    },
    "kernelspec": {
      "name": "python3",
      "display_name": "Python 3"
    },
    "language_info": {
      "name": "python"
    }
  },
  "cells": [
    {
      "cell_type": "markdown",
      "metadata": {
        "id": "view-in-github",
        "colab_type": "text"
      },
      "source": [
        "<a href=\"https://colab.research.google.com/github/cesarodrigo21/Ejercicios-algoritmo-paralelo-y-distribuidos-2020-2/blob/main/Arbol_Decision_py.ipynb\" target=\"_parent\"><img src=\"https://colab.research.google.com/assets/colab-badge.svg\" alt=\"Open In Colab\"/></a>"
      ]
    },
    {
      "cell_type": "markdown",
      "metadata": {
        "id": "_39yhHK5WiCL"
      },
      "source": [
        "#Actividad Árbol de Decisión\n",
        "```\n",
        "Alumno     : Cesar Rodrigo Ttito Quilca\n",
        "Codigo     : 14098\n",
        "\n",
        "\n",
        "RETO: Obtenga la curva ROC para cada caso\n",
        "\n",
        "```"
      ]
    },
    {
      "cell_type": "markdown",
      "metadata": {
        "id": "UjiCrmpCWppx"
      },
      "source": [
        "#1. Librería"
      ]
    },
    {
      "cell_type": "code",
      "metadata": {
        "id": "KEnttzhEWVK-"
      },
      "source": [
        "import numpy as np\n",
        "import matplotlib.pyplot as plt\n",
        "import pandas as pd\n",
        "\n",
        "from sklearn import datasets\n",
        "from sklearn.model_selection import train_test_split\n",
        "from sklearn.preprocessing import MinMaxScaler\n",
        "from sklearn.metrics import classification_report\n",
        "from sklearn.neighbors import KNeighborsClassifier\n",
        "from sklearn.metrics import confusion_matrix\n",
        "from sklearn import tree\n",
        "\n",
        "# Librerías para métricas\n",
        "import sklearn.metrics as metrics\n",
        "\n",
        "# Librerías para Árbol de decisión\n",
        "from sklearn.tree import DecisionTreeClassifier"
      ],
      "execution_count": null,
      "outputs": []
    },
    {
      "cell_type": "markdown",
      "metadata": {
        "id": "6R8q3m3oU55g"
      },
      "source": [
        "##Leer datos"
      ]
    },
    {
      "cell_type": "code",
      "metadata": {
        "colab": {
          "base_uri": "https://localhost:8080/",
          "height": 204
        },
        "id": "nDaYOis8ZHfj",
        "outputId": "cd5d6ac6-146d-465b-b4b9-f4604ab85794"
      },
      "source": [
        "datosWine = pd.read_csv(\"CreditoBancario.csv\", sep=',')\n",
        "datosWine.head()"
      ],
      "execution_count": null,
      "outputs": [
        {
          "output_type": "execute_result",
          "data": {
            "text/html": [
              "<div>\n",
              "<style scoped>\n",
              "    .dataframe tbody tr th:only-of-type {\n",
              "        vertical-align: middle;\n",
              "    }\n",
              "\n",
              "    .dataframe tbody tr th {\n",
              "        vertical-align: top;\n",
              "    }\n",
              "\n",
              "    .dataframe thead th {\n",
              "        text-align: right;\n",
              "    }\n",
              "</style>\n",
              "<table border=\"1\" class=\"dataframe\">\n",
              "  <thead>\n",
              "    <tr style=\"text-align: right;\">\n",
              "      <th></th>\n",
              "      <th>sexo</th>\n",
              "      <th>educacion</th>\n",
              "      <th>estadocivil</th>\n",
              "      <th>edad</th>\n",
              "      <th>montocredito</th>\n",
              "    </tr>\n",
              "  </thead>\n",
              "  <tbody>\n",
              "    <tr>\n",
              "      <th>0</th>\n",
              "      <td>2</td>\n",
              "      <td>2</td>\n",
              "      <td>1</td>\n",
              "      <td>24</td>\n",
              "      <td>20000</td>\n",
              "    </tr>\n",
              "    <tr>\n",
              "      <th>1</th>\n",
              "      <td>2</td>\n",
              "      <td>2</td>\n",
              "      <td>2</td>\n",
              "      <td>26</td>\n",
              "      <td>120000</td>\n",
              "    </tr>\n",
              "    <tr>\n",
              "      <th>2</th>\n",
              "      <td>2</td>\n",
              "      <td>2</td>\n",
              "      <td>2</td>\n",
              "      <td>34</td>\n",
              "      <td>90000</td>\n",
              "    </tr>\n",
              "    <tr>\n",
              "      <th>3</th>\n",
              "      <td>2</td>\n",
              "      <td>2</td>\n",
              "      <td>1</td>\n",
              "      <td>37</td>\n",
              "      <td>50000</td>\n",
              "    </tr>\n",
              "    <tr>\n",
              "      <th>4</th>\n",
              "      <td>1</td>\n",
              "      <td>2</td>\n",
              "      <td>1</td>\n",
              "      <td>57</td>\n",
              "      <td>50000</td>\n",
              "    </tr>\n",
              "  </tbody>\n",
              "</table>\n",
              "</div>"
            ],
            "text/plain": [
              "   sexo  educacion  estadocivil  edad  montocredito\n",
              "0     2          2            1    24         20000\n",
              "1     2          2            2    26        120000\n",
              "2     2          2            2    34         90000\n",
              "3     2          2            1    37         50000\n",
              "4     1          2            1    57         50000"
            ]
          },
          "metadata": {},
          "execution_count": 2
        }
      ]
    },
    {
      "cell_type": "markdown",
      "metadata": {
        "id": "bvHsfe5bU8nm"
      },
      "source": [
        "##Descripcion de datos"
      ]
    },
    {
      "cell_type": "code",
      "metadata": {
        "colab": {
          "base_uri": "https://localhost:8080/"
        },
        "id": "7_SN_pByZUyg",
        "outputId": "d932e1f3-dd81-41fc-f9b9-2d006734813c"
      },
      "source": [
        "print(datosWine.describe())"
      ],
      "execution_count": null,
      "outputs": [
        {
          "output_type": "stream",
          "name": "stdout",
          "text": [
            "            sexo  educacion  estadocivil       edad   montocredito\n",
            "count  14.000000  14.000000    14.000000  14.000000      14.000000\n",
            "mean    1.642857   2.000000     1.714286  34.714286  164285.714286\n",
            "std     0.497245   0.679366     0.468807   9.769880  184378.969505\n",
            "min     1.000000   1.000000     1.000000  23.000000   20000.000000\n",
            "25%     1.000000   2.000000     1.250000  28.250000   50000.000000\n",
            "50%     2.000000   2.000000     2.000000  34.000000   95000.000000\n",
            "75%     2.000000   2.000000     2.000000  37.000000  185000.000000\n",
            "max     2.000000   3.000000     2.000000  57.000000  630000.000000\n"
          ]
        }
      ]
    },
    {
      "cell_type": "markdown",
      "metadata": {
        "id": "8HMB-hQ3VAqX"
      },
      "source": [
        "##Histograma"
      ]
    },
    {
      "cell_type": "code",
      "metadata": {
        "colab": {
          "base_uri": "https://localhost:8080/",
          "height": 281
        },
        "id": "5WNPOXemZY65",
        "outputId": "b8c69a00-89ba-4ea9-d072-02c7dff149e0"
      },
      "source": [
        "datosWine.hist()\n",
        "plt.show()"
      ],
      "execution_count": null,
      "outputs": [
        {
          "output_type": "display_data",
          "data": {
            "image/png": "[encoded data removed]",
            "text/plain": [
              "<Figure size 432x288 with 6 Axes>"
            ]
          },
          "metadata": {
            "needs_background": "light"
          }
        }
      ]
    },
    {
      "cell_type": "markdown",
      "metadata": {
        "id": "Zn6Vy7EyVKhv"
      },
      "source": [
        "##Distribucion de clases"
      ]
    },
    {
      "cell_type": "code",
      "metadata": {
        "colab": {
          "base_uri": "https://localhost:8080/"
        },
        "id": "6PRqPAtEZfnk",
        "outputId": "18d90a22-e5da-4796-9fc9-a3b84b6bee3e"
      },
      "source": [
        "print(datosWine.groupby('sexo').size())"
      ],
      "execution_count": null,
      "outputs": [
        {
          "output_type": "stream",
          "name": "stdout",
          "text": [
            "sexo\n",
            "1    5\n",
            "2    9\n",
            "dtype: int64\n"
          ]
        }
      ]
    },
    {
      "cell_type": "code",
      "metadata": {
        "colab": {
          "base_uri": "https://localhost:8080/",
          "height": 265
        },
        "id": "SOpA1Hd1Zn50",
        "outputId": "f8a60810-dd0a-44d7-a95c-c68a76433ebb"
      },
      "source": [
        "datosWine['sexo'].hist()\n",
        "plt.show()"
      ],
      "execution_count": null,
      "outputs": [
        {
          "output_type": "display_data",
          "data": {
            "image/png": "[encoded data removed]",
            "text/plain": [
              "<Figure size 432x288 with 1 Axes>"
            ]
          },
          "metadata": {
            "needs_background": "light"
          }
        }
      ]
    },
    {
      "cell_type": "markdown",
      "metadata": {
        "id": "r_iniCYsVP59"
      },
      "source": [
        "##Separacion de datos, para entrenamiento y test"
      ]
    },
    {
      "cell_type": "code",
      "metadata": {
        "colab": {
          "base_uri": "https://localhost:8080/"
        },
        "id": "wvNPf0xxZ6q9",
        "outputId": "6d1fbfbf-d586-4c5a-ba72-b198c019d82a"
      },
      "source": [
        "X = datosWine[datosWine.keys()[0:5]].values\n",
        "y = datosWine['montocredito'].values\n",
        "\n",
        "# Separa datos en entrenamiento y test\n",
        "X_train, X_test, y_train, y_test = train_test_split(X, y, random_state=0)\n",
        "# Normalizar\n",
        "scaler = MinMaxScaler()\n",
        "X_train = scaler.fit_transform(X_train)\n",
        "X_test = scaler.transform(X_test)\n",
        "\n",
        "X_train, X_test, y_train, y_test"
      ],
      "execution_count": null,
      "outputs": [
        {
          "output_type": "execute_result",
          "data": {
            "text/plain": [
              "(array([[1.        , 0.5       , 1.        , 0.61111111, 0.1147541 ],\n",
              "        [0.        , 0.5       , 1.        , 0.38888889, 0.08196721],\n",
              "        [0.        , 1.        , 1.        , 0.66666667, 0.        ],\n",
              "        [1.        , 0.5       , 1.        , 0.16666667, 0.16393443],\n",
              "        [1.        , 0.5       , 1.        , 0.        , 0.13114754],\n",
              "        [1.        , 1.        , 1.        , 0.61111111, 0.29508197],\n",
              "        [1.        , 0.5       , 0.        , 0.77777778, 0.04918033],\n",
              "        [1.        , 0.5       , 0.        , 0.05555556, 0.        ],\n",
              "        [0.        , 0.        , 1.        , 0.77777778, 0.04918033],\n",
              "        [1.        , 0.5       , 1.        , 1.        , 1.        ]]),\n",
              " array([[1.        , 1.        , 0.        , 0.27777778, 0.19672131],\n",
              "        [0.        , 0.        , 1.        , 0.33333333, 0.78688525],\n",
              "        [0.        , 0.5       , 0.        , 1.88888889, 0.04918033],\n",
              "        [1.        , 0.        , 1.        , 1.55555556, 0.39344262]]),\n",
              " array([ 90000,  70000,  20000, 120000, 100000, 200000,  50000,  20000,\n",
              "         50000, 630000]),\n",
              " array([140000, 500000,  50000, 260000]))"
            ]
          },
          "metadata": {},
          "execution_count": 17
        }
      ]
    },
    {
      "cell_type": "markdown",
      "metadata": {
        "id": "0nqZxyzTVerm"
      },
      "source": [
        "##Entranamiento del arbol de decision"
      ]
    },
    {
      "cell_type": "code",
      "metadata": {
        "colab": {
          "base_uri": "https://localhost:8080/"
        },
        "id": "UtIExJX5aRLb",
        "outputId": "98ab9b6d-45b0-46a9-914d-a8c4c0a7b603"
      },
      "source": [
        "ArbolDecisionWine = DecisionTreeClassifier(criterion = 'entropy')\n",
        "ArbolDecisionWine.fit(X_train, y_train)"
      ],
      "execution_count": null,
      "outputs": [
        {
          "output_type": "execute_result",
          "data": {
            "text/plain": [
              "DecisionTreeClassifier(ccp_alpha=0.0, class_weight=None, criterion='entropy',\n",
              "                       max_depth=None, max_features=None, max_leaf_nodes=None,\n",
              "                       min_impurity_decrease=0.0, min_impurity_split=None,\n",
              "                       min_samples_leaf=1, min_samples_split=2,\n",
              "                       min_weight_fraction_leaf=0.0, presort='deprecated',\n",
              "                       random_state=None, splitter='best')"
            ]
          },
          "metadata": {},
          "execution_count": 18
        }
      ]
    },
    {
      "cell_type": "code",
      "metadata": {
        "colab": {
          "base_uri": "https://localhost:8080/",
          "height": 503
        },
        "id": "8zorQ3Yuaey8",
        "outputId": "91e4df31-36fd-4af4-8ce4-251aa5551431"
      },
      "source": [
        "tree.plot_tree(ArbolDecisionWine) "
      ],
      "execution_count": null,
      "outputs": [
        {
          "output_type": "execute_result",
          "data": {
            "text/plain": [
              "[Text(141.64615384615385, 195.696, 'X[4] <= 0.098\\nentropy = 2.922\\nsamples = 10\\nvalue = [2, 2, 1, 1, 1, 1, 1, 1]'),\n",
              " Text(77.26153846153846, 152.208, 'X[3] <= 0.722\\nentropy = 1.522\\nsamples = 5\\nvalue = [2, 2, 1, 0, 0, 0, 0, 0]'),\n",
              " Text(51.50769230769231, 108.72, 'X[4] <= 0.041\\nentropy = 0.918\\nsamples = 3\\nvalue = [2, 0, 1, 0, 0, 0, 0, 0]'),\n",
              " Text(25.753846153846155, 65.232, 'entropy = 0.0\\nsamples = 2\\nvalue = [2, 0, 0, 0, 0, 0, 0, 0]'),\n",
              " Text(77.26153846153846, 65.232, 'entropy = 0.0\\nsamples = 1\\nvalue = [0, 0, 1, 0, 0, 0, 0, 0]'),\n",
              " Text(103.01538461538462, 108.72, 'entropy = 0.0\\nsamples = 2\\nvalue = [0, 2, 0, 0, 0, 0, 0, 0]'),\n",
              " Text(206.03076923076924, 152.208, 'X[4] <= 0.148\\nentropy = 2.322\\nsamples = 5\\nvalue = [0, 0, 0, 1, 1, 1, 1, 1]'),\n",
              " Text(154.52307692307693, 108.72, 'X[4] <= 0.123\\nentropy = 1.0\\nsamples = 2\\nvalue = [0, 0, 0, 1, 1, 0, 0, 0]'),\n",
              " Text(128.76923076923077, 65.232, 'entropy = 0.0\\nsamples = 1\\nvalue = [0, 0, 0, 1, 0, 0, 0, 0]'),\n",
              " Text(180.27692307692308, 65.232, 'entropy = 0.0\\nsamples = 1\\nvalue = [0, 0, 0, 0, 1, 0, 0, 0]'),\n",
              " Text(257.53846153846155, 108.72, 'X[4] <= 0.23\\nentropy = 1.585\\nsamples = 3\\nvalue = [0, 0, 0, 0, 0, 1, 1, 1]'),\n",
              " Text(231.7846153846154, 65.232, 'entropy = 0.0\\nsamples = 1\\nvalue = [0, 0, 0, 0, 0, 1, 0, 0]'),\n",
              " Text(283.2923076923077, 65.232, 'X[1] <= 0.75\\nentropy = 1.0\\nsamples = 2\\nvalue = [0, 0, 0, 0, 0, 0, 1, 1]'),\n",
              " Text(257.53846153846155, 21.744, 'entropy = 0.0\\nsamples = 1\\nvalue = [0, 0, 0, 0, 0, 0, 0, 1]'),\n",
              " Text(309.04615384615386, 21.744, 'entropy = 0.0\\nsamples = 1\\nvalue = [0, 0, 0, 0, 0, 0, 1, 0]')]"
            ]
          },
          "metadata": {},
          "execution_count": 19
        },
        {
          "output_type": "display_data",
          "data": {
            "image/png": "[encoded data removed]",
            "text/plain": [
              "<Figure size 432x288 with 1 Axes>"
            ]
          },
          "metadata": {
            "needs_background": "light"
          }
        }
      ]
    },
    {
      "cell_type": "markdown",
      "metadata": {
        "id": "NvXUYdN2VztO"
      },
      "source": [
        "##Test"
      ]
    },
    {
      "cell_type": "code",
      "metadata": {
        "colab": {
          "base_uri": "https://localhost:8080/"
        },
        "id": "y_zEGQ2Baoa4",
        "outputId": "efb0d830-6107-4e99-9e53-7e21a2eeefa9"
      },
      "source": [
        "predWines = ArbolDecisionWine.predict(X_test)\n",
        "print(predWines)"
      ],
      "execution_count": null,
      "outputs": [
        {
          "output_type": "stream",
          "name": "stdout",
          "text": [
            "[120000 630000  50000 630000]\n"
          ]
        }
      ]
    },
    {
      "cell_type": "markdown",
      "metadata": {
        "id": "U86Qq9P-V1q-"
      },
      "source": [
        "##Matriz de de confusion y metrica"
      ]
    },
    {
      "cell_type": "code",
      "metadata": {
        "colab": {
          "base_uri": "https://localhost:8080/"
        },
        "id": "Jl6PbiSuavll",
        "outputId": "033d3d2a-f5ab-40f4-b68c-b0f76b665c75"
      },
      "source": [
        "MatrizConfusionWine = confusion_matrix(y_test, predWines)\n",
        "ExactitudWine = metrics.accuracy_score(y_test, predWines)\n",
        "\n",
        "\n",
        "print('Matriz de Confusión')\n",
        "print(MatrizConfusionWine)\n",
        "print('Exactitud = ', ExactitudWine)\n"
      ],
      "execution_count": null,
      "outputs": [
        {
          "output_type": "stream",
          "name": "stdout",
          "text": [
            "Matriz de Confusión\n",
            "[[1 0 0 0 0 0]\n",
            " [0 0 0 0 0 0]\n",
            " [0 1 0 0 0 0]\n",
            " [0 0 0 0 0 1]\n",
            " [0 0 0 0 0 1]\n",
            " [0 0 0 0 0 0]]\n",
            "Exactitud =  0.25\n"
          ]
        }
      ]
    },
    {
      "cell_type": "markdown",
      "metadata": {
        "id": "WPYP_mMazCEX"
      },
      "source": [
        "##Grafica ROC"
      ]
    },
    {
      "cell_type": "code",
      "metadata": {
        "colab": {
          "base_uri": "https://localhost:8080/"
        },
        "id": "bp94xjd5s69C",
        "outputId": "a47ac8cc-08aa-4252-e36b-d0cb9221176e"
      },
      "source": [
        "knnwine = KNeighborsClassifier(n_neighbors=3)\n",
        "\n",
        "\n",
        "knnwine.fit(X_train, y_train)\n",
        "print('Exactitud de K-NN en la claificación de datos de entrenamiento: {:.2f}'\n",
        "     .format(knnwine.score(X_train, y_train)))\n",
        "print('Exactitud de K-NN en la clasifiación de datos de test: {:.2f}'\n",
        "     .format(knnwine.score(X_test, y_test)))\n",
        "\n",
        "pred = knnwine.predict(X_test)"
      ],
      "execution_count": null,
      "outputs": [
        {
          "output_type": "stream",
          "name": "stdout",
          "text": [
            "Exactitud de K-NN en la claificación de datos de entrenamiento: 0.30\n",
            "Exactitud de K-NN en la clasifiación de datos de test: 0.25\n"
          ]
        }
      ]
    },
    {
      "cell_type": "code",
      "metadata": {
        "id": "G2VvlYGstYbQ"
      },
      "source": [
        "def Curva_ROC(RFP, RVP,roc_auc):\n",
        "    plt.figure(figsize=[7,7])\n",
        "    plt.plot(RFP, RVP, color='darkorange')\n",
        "    plt.plot([0,1], [0,1], linestyle=(0, (5, 5)), linewidth=2)\n",
        "    plt.xlabel(\"1-Especificidad: 1 - VP/(VP+FN)\")\n",
        "    plt.ylabel(\"Sensibilidad: VP/(VP+FN)\")\n",
        "    plt.title(\"Curva ROC (Característica Operativa del Receptor)\")\n",
        "    "
      ],
      "execution_count": null,
      "outputs": []
    },
    {
      "cell_type": "code",
      "metadata": {
        "colab": {
          "base_uri": "https://localhost:8080/",
          "height": 560
        },
        "id": "xmdQ96CwtpyJ",
        "outputId": "4c649ca1-ed21-49f4-8d00-31d5f13b59f0"
      },
      "source": [
        "import sklearn.metrics as metrics\n",
        "probs = knnwine.predict_proba(X_test)\n",
        "preds = probs[:,1]\n",
        "RFP, RVP, threshold = metrics.roc_curve(y_test, preds,pos_label=1)\n",
        "roc_auc = metrics.auc(RFP, RVP)\n",
        "Curva_ROC(RFP,RVP,roc_auc)\n",
        "print(probs)\n",
        "print(preds)\n",
        "print('área bajo la curva = ',roc_auc)"
      ],
      "execution_count": null,
      "outputs": [
        {
          "output_type": "stream",
          "name": "stdout",
          "text": [
            "[[0.         1.        ]\n",
            " [1.         0.        ]\n",
            " [0.66666667 0.33333333]\n",
            " [0.33333333 0.66666667]]\n",
            "[1.         0.         0.33333333 0.66666667]\n",
            "área bajo la curva =  0.0\n"
          ]
        },
        {
          "output_type": "display_data",
          "data": {
            "image/png": "[encoded data removed]",
            "text/plain": [
              "<Figure size 504x504 with 1 Axes>"
            ]
          },
          "metadata": {
            "needs_background": "light"
          }
        }
      ]
    }
  ]
}